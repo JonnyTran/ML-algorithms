{
 "cells": [
  {
   "cell_type": "markdown",
   "metadata": {
    "collapsed": true
   },
   "source": [
    "### The classic imports and Keras import"
   ]
  },
  {
   "cell_type": "code",
   "execution_count": 4,
   "metadata": {
    "collapsed": false
   },
   "outputs": [
    {
     "name": "stderr",
     "output_type": "stream",
     "text": [
      "Using TensorFlow backend.\n"
     ]
    }
   ],
   "source": [
    "%matplotlib inline\n",
    "import numpy as np\n",
    "import matplotlib.pyplot as plt\n",
    "\n",
    "from keras.models import Sequential, Model\n",
    "from keras.layers.core import Dense, Activation\n",
    "from keras.layers import Input"
   ]
  },
  {
   "cell_type": "markdown",
   "metadata": {},
   "source": [
    "## Function to load & preprocess data"
   ]
  },
  {
   "cell_type": "code",
   "execution_count": 24,
   "metadata": {},
   "outputs": [],
   "source": [
    "import os\n",
    "from scipy import misc\n",
    "from sklearn.model_selection import train_test_split\n",
    "from sklearn import preprocessing\n",
    "\n",
    "ROOT_DIR = os.path.dirname(os.getcwd())\n",
    "\n",
    "def load_mnist(size='100', test_size=0.2, dir_path='/Users/jonny/Desktop/PycharmProjects/ML-algorithms/Projects/Kamangar_NeuralNet/Tran_assignment_06'):\n",
    "    path = ''\n",
    "    if size == '100':\n",
    "        path = dir_path + '/set3_100/'\n",
    "    elif size == '2000':\n",
    "        path = dir_path + '/set2_2k/'\n",
    "    elif size == '20000':\n",
    "        path = dir_path + '/train/'\n",
    "\n",
    "    files_list = os.listdir(path)\n",
    "    n_samples = len(files_list)\n",
    "    X = np.ndarray((n_samples, 784))\n",
    "    y = np.ndarray((n_samples, ))\n",
    "\n",
    "    for i in range(n_samples):\n",
    "        X[i] = np.asarray(misc.imread(path + files_list[i])).ravel()\n",
    "        y[i] = int(files_list[i].split('_')[0])\n",
    "\n",
    "    X = preprocessing.normalize(X)\n",
    "\n",
    "    X_train, X_test, Y_train, Y_test = train_test_split(X, y, test_size=test_size,\n",
    "                                                        random_state=np.random.randint(0, 10000))\n",
    "\n",
    "    return X_train, X_test, Y_train, Y_test"
   ]
  },
  {
   "cell_type": "markdown",
   "metadata": {},
   "source": [
    "### Model Hyper-parameters"
   ]
  },
  {
   "cell_type": "code",
   "execution_count": 14,
   "metadata": {},
   "outputs": [],
   "source": [
    "n_hidden = 100\n",
    "input_size = x_train.shape[1]"
   ]
  },
  {
   "cell_type": "markdown",
   "metadata": {},
   "source": [
    "## Define neural network structure"
   ]
  },
  {
   "cell_type": "code",
   "execution_count": 16,
   "metadata": {},
   "outputs": [],
   "source": [
    "# Structure inspired from Francious Chollet's lectures\n",
    "input_img = Input(shape=(input_size,))\n",
    "encoder = Dense(n_hidden, activation='relu')(input_img)\n",
    "decoder = Dense(input_size, activation='linear')(encoder)\n",
    "\n",
    "# The model to train encoder & decoder layers for reconstruction\n",
    "autoencoder = Model(input=input_img, output=decoder)"
   ]
  },
  {
   "cell_type": "code",
   "execution_count": 19,
   "metadata": {},
   "outputs": [
    {
     "name": "stdout",
     "output_type": "stream",
     "text": [
      "____________________________________________________________________________________________________\nLayer (type)                     Output Shape          Param #     Connected to                     \n====================================================================================================\ninput_1 (InputLayer)             (None, 784)           0                                            \n____________________________________________________________________________________________________\ndense_1 (Dense)                  (None, 100)           78500       input_1[0][0]                    \n____________________________________________________________________________________________________\ndense_2 (Dense)                  (None, 784)           79184       dense_1[0][0]                    \n====================================================================================================\nTotal params: 157684\n____________________________________________________________________________________________________\n"
     ]
    }
   ],
   "source": [
    "autoencoder.summary()\n",
    "autoencoder.compile(optimizer='rmsprop', loss='mse')"
   ]
  },
  {
   "cell_type": "markdown",
   "metadata": {},
   "source": [
    "# Task 1 Report\n"
   ]
  },
  {
   "cell_type": "markdown",
   "metadata": {},
   "source": [
    "### Training hyper parameters"
   ]
  },
  {
   "cell_type": "code",
   "execution_count": 53,
   "metadata": {},
   "outputs": [],
   "source": [
    "batch_size = 100\n",
    "nb_epoch = 10"
   ]
  },
  {
   "cell_type": "markdown",
   "metadata": {},
   "source": [
    "## Train the model"
   ]
  },
  {
   "cell_type": "code",
   "execution_count": 21,
   "metadata": {
    "collapsed": true
   },
   "outputs": [
    {
     "name": "stdout",
     "output_type": "stream",
     "text": [
      "Epoch 1/10\n\r80/80 [==============================] - 0s - loss: 4029.5923"
     ]
    },
    {
     "name": "stdout",
     "output_type": "stream",
     "text": [
      "\nEpoch 2/10\n\r80/80 [==============================] - 0s - loss: 3909.1445"
     ]
    },
    {
     "name": "stdout",
     "output_type": "stream",
     "text": [
      "\nEpoch 3/10\n\r80/80 [==============================] - 0s - loss: 3807.0242"
     ]
    },
    {
     "name": "stdout",
     "output_type": "stream",
     "text": [
      "\nEpoch 4/10\n\r80/80 [==============================] - 0s - loss: 3715.4524"
     ]
    },
    {
     "name": "stdout",
     "output_type": "stream",
     "text": [
      "\nEpoch 5/10\n\r80/80 [==============================] - 0s - loss: 3615.9839"
     ]
    },
    {
     "name": "stdout",
     "output_type": "stream",
     "text": [
      "\nEpoch 6/10\n\r80/80 [==============================] - 0s - loss: 3529.6360"
     ]
    },
    {
     "name": "stdout",
     "output_type": "stream",
     "text": [
      "\nEpoch 7/10\n\r80/80 [==============================] - 0s - loss: 3447.5923"
     ]
    },
    {
     "name": "stdout",
     "output_type": "stream",
     "text": [
      "\nEpoch 8/10\n\r80/80 [==============================] - 0s - loss: 3367.2258"
     ]
    },
    {
     "name": "stdout",
     "output_type": "stream",
     "text": [
      "\nEpoch 9/10\n\r80/80 [==============================] - 0s - loss: 3276.1704"
     ]
    },
    {
     "name": "stdout",
     "output_type": "stream",
     "text": [
      "\nEpoch 10/10\n\r80/80 [==============================] - 0s - loss: 3198.8774"
     ]
    },
    {
     "name": "stdout",
     "output_type": "stream",
     "text": [
      "\n"
     ]
    }
   ],
   "source": [
    "x_train, _, x_test, _ = load_mnist(size='2000', test_size=0.2)\n",
    "train_100 = autoencoder.fit(x_train, x_train,\n",
    "                    batch_size=batch_size, nb_epoch=nb_epoch,\n",
    "                    shuffle=True,\n",
    "                    verbose=0)\n",
    "x_train, _, x_test, _ = load_mnist(size='200', test_size=0.2)\n",
    "train_100 = autoencoder.fit(x_train, x_train,\n",
    "                    batch_size=batch_size, nb_epoch=nb_epoch,\n",
    "                    shuffle=True,\n",
    "                    verbose=0)"
   ]
  },
  {
   "cell_type": "markdown",
   "metadata": {},
   "source": [
    ""
   ]
  },
  {
   "cell_type": "code",
   "execution_count": 22,
   "metadata": {
    "collapsed": false
   },
   "outputs": [
    {
     "data": {
      "text/plain": [
       "{'loss': [4029.59228515625,\n  3909.14453125,\n  3807.024169921875,\n  3715.452392578125,\n  3615.98388671875,\n  3529.635986328125,\n  3447.59228515625,\n  3367.225830078125,\n  3276.17041015625,\n  3198.87744140625]}"
      ]
     },
     "execution_count": 22,
     "metadata": {},
     "output_type": "execute_result"
    }
   ],
   "source": [
    "history.history"
   ]
  },
  {
   "cell_type": "code",
   "execution_count": null,
   "metadata": {},
   "outputs": [],
   "source": [
    ""
   ]
  },
  {
   "cell_type": "code",
   "execution_count": null,
   "metadata": {},
   "outputs": [],
   "source": [
    ""
   ]
  }
 ],
 "metadata": {
  "kernelspec": {
   "display_name": "Python 2",
   "language": "python",
   "name": "python2"
  },
  "language_info": {
   "codemirror_mode": {
    "name": "ipython",
    "version": 2.0
   },
   "file_extension": ".py",
   "mimetype": "text/x-python",
   "name": "python",
   "nbconvert_exporter": "python",
   "pygments_lexer": "ipython2",
   "version": "2.7.6"
  }
 },
 "nbformat": 4,
 "nbformat_minor": 0
}